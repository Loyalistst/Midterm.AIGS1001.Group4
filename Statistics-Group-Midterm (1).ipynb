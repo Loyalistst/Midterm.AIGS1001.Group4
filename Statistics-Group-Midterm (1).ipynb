data = read.table("GPA.txt", header=F)
# change column names
names(data) <- c("GPA","ACT")
GPA = c(data$GPA)
ACT = c(data$ACT)
# print the first 20 observations
head(data, 20)

summary(data)

mean(GPA)

# d. Variances of ACT and GPA
var(GPA)
var(ACT)

#e. The correlation between the explanatory variable and the explanatory variable is
cor(data)

#f. The correlation between ACT and GPA
cor(ACT, GPA)


#h.
reg_model <- lm(GPA ~ ACT, data = data) #define the regresssion model for our data (GPA and ACT)
reg_model

#k. plot the reg_model
plot(GPA ~ ACT, data= data, pch=20, xlab="ACTUAL SCORE", ylab="GRADE POINT AVERAGE (GPA)")
abline(coef(reg_model), col = "red", lwd = 1)

#n. Anova Table
anova(reg_model)


summary(reg_model)

#q.
sample_28 = data[data$ACT == 28,]
sample_28

summary(sample_28)
model_28 = lm(GPA ~ 1, sample_28)
confint(model_28, level = 0.95)
