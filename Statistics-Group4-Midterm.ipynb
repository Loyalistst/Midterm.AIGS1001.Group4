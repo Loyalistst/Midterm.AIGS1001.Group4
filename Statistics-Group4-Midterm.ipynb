{
 "cells": [
  {
   "cell_type": "markdown",
   "id": "2eaae133",
   "metadata": {},
   "source": [
    "## AIGS1001_1623 Stat Modelling & Inference Midterm\n",
    "## Group Members: Priyanka, Vikash, Vignesh and Yukti"
   ]
  },
  {
   "cell_type": "code",
   "execution_count": 3,
   "id": "88a890af",
   "metadata": {},
   "outputs": [
    {
     "data": {
      "text/html": [
       "<table>\n",
       "<thead><tr><th scope=col>GPA</th><th scope=col>ACT</th></tr></thead>\n",
       "<tbody>\n",
       "\t<tr><td>3.897</td><td>21   </td></tr>\n",
       "\t<tr><td>3.885</td><td>14   </td></tr>\n",
       "\t<tr><td>3.778</td><td>28   </td></tr>\n",
       "\t<tr><td>2.540</td><td>22   </td></tr>\n",
       "\t<tr><td>3.028</td><td>21   </td></tr>\n",
       "\t<tr><td>3.865</td><td>31   </td></tr>\n",
       "\t<tr><td>2.962</td><td>32   </td></tr>\n",
       "\t<tr><td>3.961</td><td>27   </td></tr>\n",
       "\t<tr><td>0.500</td><td>29   </td></tr>\n",
       "\t<tr><td>3.178</td><td>26   </td></tr>\n",
       "\t<tr><td>3.310</td><td>24   </td></tr>\n",
       "\t<tr><td>3.538</td><td>30   </td></tr>\n",
       "\t<tr><td>3.083</td><td>24   </td></tr>\n",
       "\t<tr><td>3.013</td><td>24   </td></tr>\n",
       "\t<tr><td>3.245</td><td>33   </td></tr>\n",
       "\t<tr><td>2.963</td><td>27   </td></tr>\n",
       "\t<tr><td>3.522</td><td>25   </td></tr>\n",
       "\t<tr><td>3.013</td><td>31   </td></tr>\n",
       "\t<tr><td>2.947</td><td>25   </td></tr>\n",
       "\t<tr><td>2.118</td><td>20   </td></tr>\n",
       "</tbody>\n",
       "</table>\n"
      ],
      "text/latex": [
       "\\begin{tabular}{r|ll}\n",
       " GPA & ACT\\\\\n",
       "\\hline\n",
       "\t 3.897 & 21   \\\\\n",
       "\t 3.885 & 14   \\\\\n",
       "\t 3.778 & 28   \\\\\n",
       "\t 2.540 & 22   \\\\\n",
       "\t 3.028 & 21   \\\\\n",
       "\t 3.865 & 31   \\\\\n",
       "\t 2.962 & 32   \\\\\n",
       "\t 3.961 & 27   \\\\\n",
       "\t 0.500 & 29   \\\\\n",
       "\t 3.178 & 26   \\\\\n",
       "\t 3.310 & 24   \\\\\n",
       "\t 3.538 & 30   \\\\\n",
       "\t 3.083 & 24   \\\\\n",
       "\t 3.013 & 24   \\\\\n",
       "\t 3.245 & 33   \\\\\n",
       "\t 2.963 & 27   \\\\\n",
       "\t 3.522 & 25   \\\\\n",
       "\t 3.013 & 31   \\\\\n",
       "\t 2.947 & 25   \\\\\n",
       "\t 2.118 & 20   \\\\\n",
       "\\end{tabular}\n"
      ],
      "text/markdown": [
       "\n",
       "| GPA | ACT |\n",
       "|---|---|\n",
       "| 3.897 | 21    |\n",
       "| 3.885 | 14    |\n",
       "| 3.778 | 28    |\n",
       "| 2.540 | 22    |\n",
       "| 3.028 | 21    |\n",
       "| 3.865 | 31    |\n",
       "| 2.962 | 32    |\n",
       "| 3.961 | 27    |\n",
       "| 0.500 | 29    |\n",
       "| 3.178 | 26    |\n",
       "| 3.310 | 24    |\n",
       "| 3.538 | 30    |\n",
       "| 3.083 | 24    |\n",
       "| 3.013 | 24    |\n",
       "| 3.245 | 33    |\n",
       "| 2.963 | 27    |\n",
       "| 3.522 | 25    |\n",
       "| 3.013 | 31    |\n",
       "| 2.947 | 25    |\n",
       "| 2.118 | 20    |\n",
       "\n"
      ],
      "text/plain": [
       "   GPA   ACT\n",
       "1  3.897 21 \n",
       "2  3.885 14 \n",
       "3  3.778 28 \n",
       "4  2.540 22 \n",
       "5  3.028 21 \n",
       "6  3.865 31 \n",
       "7  2.962 32 \n",
       "8  3.961 27 \n",
       "9  0.500 29 \n",
       "10 3.178 26 \n",
       "11 3.310 24 \n",
       "12 3.538 30 \n",
       "13 3.083 24 \n",
       "14 3.013 24 \n",
       "15 3.245 33 \n",
       "16 2.963 27 \n",
       "17 3.522 25 \n",
       "18 3.013 31 \n",
       "19 2.947 25 \n",
       "20 2.118 20 "
      ]
     },
     "metadata": {},
     "output_type": "display_data"
    }
   ],
   "source": [
    "data = read.table(\"GPA.txt\", header=F)\n",
    "# change column names\n",
    "names(data) <- c(\"GPA\",\"ACT\")\n",
    "GPA = c(data$GPA)\n",
    "ACT = c(data$ACT)\n",
    "# print the first 20 observations\n",
    "head(data, 20)"
   ]
  },
  {
   "cell_type": "markdown",
   "id": "8ac2333f",
   "metadata": {},
   "source": [
    "a. The explanatory variable is the ACT. The independent variable ACT will be used to predict the potential value of the dependent variable - the Grade Point Average (GPA)"
   ]
  },
  {
   "cell_type": "code",
   "execution_count": 2,
   "id": "30091a98",
   "metadata": {},
   "outputs": [
    {
     "data": {
      "text/plain": [
       "      GPA             ACT       \n",
       " Min.   :0.500   Min.   :14.00  \n",
       " 1st Qu.:2.689   1st Qu.:21.00  \n",
       " Median :3.078   Median :25.00  \n",
       " Mean   :3.074   Mean   :24.73  \n",
       " 3rd Qu.:3.593   3rd Qu.:28.00  \n",
       " Max.   :4.000   Max.   :35.00  "
      ]
     },
     "metadata": {},
     "output_type": "display_data"
    }
   ],
   "source": [
    "summary(data)"
   ]
  },
  {
   "cell_type": "code",
   "execution_count": 4,
   "id": "ecbcff8d",
   "metadata": {},
   "outputs": [
    {
     "data": {
      "text/html": [
       "3.07405"
      ],
      "text/latex": [
       "3.07405"
      ],
      "text/markdown": [
       "3.07405"
      ],
      "text/plain": [
       "[1] 3.07405"
      ]
     },
     "metadata": {},
     "output_type": "display_data"
    }
   ],
   "source": [
    "mean(GPA)"
   ]
  },
  {
   "cell_type": "markdown",
   "id": "3f5b89de",
   "metadata": {},
   "source": [
    "b. The mean of GPA is 3.074"
   ]
  },
  {
   "cell_type": "markdown",
   "id": "addbcdff",
   "metadata": {},
   "source": [
    "c. The predicted variable in our dataset is GPA which has a mean of 3.074"
   ]
  },
  {
   "cell_type": "code",
   "execution_count": 5,
   "id": "f53ffac2",
   "metadata": {},
   "outputs": [
    {
     "data": {
      "text/html": [
       "0.415171879831933"
      ],
      "text/latex": [
       "0.415171879831933"
      ],
      "text/markdown": [
       "0.415171879831933"
      ],
      "text/plain": [
       "[1] 0.4151719"
      ]
     },
     "metadata": {},
     "output_type": "display_data"
    },
    {
     "data": {
      "text/html": [
       "19.9993697478992"
      ],
      "text/latex": [
       "19.9993697478992"
      ],
      "text/markdown": [
       "19.9993697478992"
      ],
      "text/plain": [
       "[1] 19.99937"
      ]
     },
     "metadata": {},
     "output_type": "display_data"
    }
   ],
   "source": [
    "# d. Variances of ACT and GPA\n",
    "var(GPA)\n",
    "var(ACT)"
   ]
  },
  {
   "cell_type": "code",
   "execution_count": 6,
   "id": "cfabca69",
   "metadata": {},
   "outputs": [
    {
     "data": {
      "text/html": [
       "<table>\n",
       "<thead><tr><th></th><th scope=col>GPA</th><th scope=col>ACT</th></tr></thead>\n",
       "<tbody>\n",
       "\t<tr><th scope=row>GPA</th><td>1.0000000</td><td>0.2694818</td></tr>\n",
       "\t<tr><th scope=row>ACT</th><td>0.2694818</td><td>1.0000000</td></tr>\n",
       "</tbody>\n",
       "</table>\n"
      ],
      "text/latex": [
       "\\begin{tabular}{r|ll}\n",
       "  & GPA & ACT\\\\\n",
       "\\hline\n",
       "\tGPA & 1.0000000 & 0.2694818\\\\\n",
       "\tACT & 0.2694818 & 1.0000000\\\\\n",
       "\\end{tabular}\n"
      ],
      "text/markdown": [
       "\n",
       "| <!--/--> | GPA | ACT |\n",
       "|---|---|---|\n",
       "| GPA | 1.0000000 | 0.2694818 |\n",
       "| ACT | 0.2694818 | 1.0000000 |\n",
       "\n"
      ],
      "text/plain": [
       "    GPA       ACT      \n",
       "GPA 1.0000000 0.2694818\n",
       "ACT 0.2694818 1.0000000"
      ]
     },
     "metadata": {},
     "output_type": "display_data"
    }
   ],
   "source": [
    "#e. The correlation between the explanatory variable and the explanatory variable is\n",
    "cor(data)"
   ]
  },
  {
   "cell_type": "markdown",
   "id": "042dbf84",
   "metadata": {},
   "source": [
    "The correlation between the explanatory variable and the explanatory variable is 1"
   ]
  },
  {
   "cell_type": "code",
   "execution_count": 7,
   "id": "ef628101",
   "metadata": {},
   "outputs": [
    {
     "data": {
      "text/html": [
       "0.269481803266264"
      ],
      "text/latex": [
       "0.269481803266264"
      ],
      "text/markdown": [
       "0.269481803266264"
      ],
      "text/plain": [
       "[1] 0.2694818"
      ]
     },
     "metadata": {},
     "output_type": "display_data"
    }
   ],
   "source": [
    "#f. The correlation between ACT and GPA\n",
    "cor(ACT, GPA)\n"
   ]
  },
  {
   "cell_type": "markdown",
   "id": "80c15b4e",
   "metadata": {},
   "source": [
    "g. ACT and GPA are corelated as the value is 0.2 however the correlationn is not strong, GPA and ACT is weak correlation."
   ]
  },
  {
   "cell_type": "code",
   "execution_count": 33,
   "id": "91838d1e",
   "metadata": {},
   "outputs": [
    {
     "data": {
      "text/plain": [
       "\n",
       "Call:\n",
       "lm(formula = GPA ~ ACT, data = data)\n",
       "\n",
       "Coefficients:\n",
       "(Intercept)          ACT  \n",
       "    2.11405      0.03883  \n"
      ]
     },
     "metadata": {},
     "output_type": "display_data"
    }
   ],
   "source": [
    "#h.\n",
    "reg_model <- lm(GPA ~ ACT, data = data) #define the regresssion model for our data (GPA and ACT)\n",
    "reg_model"
   ]
  },
  {
   "cell_type": "markdown",
   "id": "237e3cf4",
   "metadata": {},
   "source": [
    "h. The equation for your linear regression model:\n",
    "The equation for a linear regression is represented as  𝑦=𝑏0+𝑏1𝑋+𝑒, the error is unknown and our goal is to reduce the error to 0 when applying the Squared error function, hence 𝑦≈𝑏0+𝑏1𝑋 where 𝑏0=intercept and 𝑏1=slope\n",
    "\n",
    "i. Therefore the equation is 𝐺𝑃𝐴≈𝑏0+𝑏1𝐴𝐶𝑇 \n",
    "   Taking the data from regression model, our equation becomes: 𝐺𝑃𝐴=2.11+0.039𝐴𝐶𝑇\n",
    "J. 𝐺𝑃𝐴≈𝑏0+𝑏1𝐴𝐶𝑇 - Taking the data from regression model, our equation becomes: 𝐺𝑃𝐴=2.11+0.039𝐴𝐶𝑇, 𝑏0 and 𝑏1 are parameters and    𝑏0 = 2.11 and 𝑏1 = 0.0.39 "
   ]
  },
  {
   "cell_type": "code",
   "execution_count": 10,
   "id": "f517ccaf",
   "metadata": {},
   "outputs": [
    {
     "data": {
      "image/png": "[encoded data removed]",
      "text/plain": [
       "plot without title"
      ]
     },
     "metadata": {},
     "output_type": "display_data"
    }
   ],
   "source": [
    "#k. plot the reg_model\n",
    "plot(GPA ~ ACT, data= data, pch=20, xlab=\"ACTUAL SCORE\", ylab=\"GRADE POINT AVERAGE (GPA)\")\n",
    "abline(coef(reg_model), col = \"red\", lwd = 1)"
   ]
  },
  {
   "cell_type": "markdown",
   "id": "44966200",
   "metadata": {},
   "source": [
    "l. The slope indidacates the propotional increase in the GPA"
   ]
  },
  {
   "cell_type": "markdown",
   "id": "d4399d1a",
   "metadata": {},
   "source": [
    "m. The significance of hypothesis testing in linear regression:\n",
    "\n",
    "Hypothesis testing procedures rely on using the information in a random sample from the population of interest. If this information is consistent with the hypothesis, then we will conclude that the hypothesis is true; if this information is inconsistent with the hypothesis, we will conclude that the hypothesis is false.\n",
    "\n",
    "Hypothesis testing is used to confirm if our beta coefficients are significant in a linear regression model. Every time we run the linear regression model, we test if the line is significant or not by checking if the coefficient is significant"
   ]
  },
  {
   "cell_type": "code",
   "execution_count": 26,
   "id": "009a0a06",
   "metadata": {
    "scrolled": true
   },
   "outputs": [
    {
     "data": {
      "text/html": [
       "<table>\n",
       "<thead><tr><th></th><th scope=col>Df</th><th scope=col>Sum Sq</th><th scope=col>Mean Sq</th><th scope=col>F value</th><th scope=col>Pr(&gt;F)</th></tr></thead>\n",
       "<tbody>\n",
       "\t<tr><th scope=row>ACT</th><td>  1        </td><td> 3.587846  </td><td>3.5878459  </td><td>9.240243   </td><td>0.002916604</td></tr>\n",
       "\t<tr><th scope=row>Residuals</th><td>118        </td><td>45.817608  </td><td>0.3882848  </td><td>      NA   </td><td>         NA</td></tr>\n",
       "</tbody>\n",
       "</table>\n"
      ],
      "text/latex": [
       "\\begin{tabular}{r|lllll}\n",
       "  & Df & Sum Sq & Mean Sq & F value & Pr(>F)\\\\\n",
       "\\hline\n",
       "\tACT &   1         &  3.587846   & 3.5878459   & 9.240243    & 0.002916604\\\\\n",
       "\tResiduals & 118         & 45.817608   & 0.3882848   &       NA    &          NA\\\\\n",
       "\\end{tabular}\n"
      ],
      "text/markdown": [
       "\n",
       "| <!--/--> | Df | Sum Sq | Mean Sq | F value | Pr(>F) |\n",
       "|---|---|---|---|---|---|\n",
       "| ACT |   1         |  3.587846   | 3.5878459   | 9.240243    | 0.002916604 |\n",
       "| Residuals | 118         | 45.817608   | 0.3882848   |       NA    |          NA |\n",
       "\n"
      ],
      "text/plain": [
       "          Df  Sum Sq    Mean Sq   F value  Pr(>F)     \n",
       "ACT         1  3.587846 3.5878459 9.240243 0.002916604\n",
       "Residuals 118 45.817608 0.3882848       NA          NA"
      ]
     },
     "metadata": {},
     "output_type": "display_data"
    }
   ],
   "source": [
    "#n. Anova Table\n",
    "anova(reg_model)"
   ]
  },
  {
   "cell_type": "markdown",
   "id": "7bb623e5",
   "metadata": {},
   "source": [
    "o. Yes, I agree with this statement, F-test can be used to determine the equality of the variances of the two normal populations and the F-test can be applied on the large sampled population.\n",
    "The T-test is used to compare the means of two different sets, it depicts if the mean of one group is significantly different from the other group. F-statistic: This is a “global” test that checks if at least one of the coefficients is \n",
    "nonzero.The larger t-statistic is, the more certain that the coefficient is not zero. The t-statistic is then used to find the p-value."
   ]
  },
  {
   "cell_type": "code",
   "execution_count": 9,
   "id": "51f76b1a",
   "metadata": {
    "scrolled": false
   },
   "outputs": [
    {
     "data": {
      "text/plain": [
       "\n",
       "Call:\n",
       "lm(formula = GPA ~ ACT, data = data)\n",
       "\n",
       "Residuals:\n",
       "     Min       1Q   Median       3Q      Max \n",
       "-2.74004 -0.33827  0.04062  0.44064  1.22737 \n",
       "\n",
       "Coefficients:\n",
       "            Estimate Std. Error t value Pr(>|t|)    \n",
       "(Intercept)  2.11405    0.32089   6.588  1.3e-09 ***\n",
       "ACT          0.03883    0.01277   3.040  0.00292 ** \n",
       "---\n",
       "Signif. codes:  0 '***' 0.001 '**' 0.01 '*' 0.05 '.' 0.1 ' ' 1\n",
       "\n",
       "Residual standard error: 0.6231 on 118 degrees of freedom\n",
       "Multiple R-squared:  0.07262,\tAdjusted R-squared:  0.06476 \n",
       "F-statistic:  9.24 on 1 and 118 DF,  p-value: 0.002917\n"
      ]
     },
     "metadata": {},
     "output_type": "display_data"
    }
   ],
   "source": [
    "\n",
    "summary(reg_model)"
   ]
  },
  {
   "cell_type": "markdown",
   "id": "d1cb6c9c",
   "metadata": {},
   "source": [
    "p. The proportion of variation in GPA explained by the regression model?\n",
    "\n",
    "Multiple R-squared: This is used for simple linear regression and provides the percentage of variation within the response variable given the explanatory variable. Put differently, it gives an indication of how well the model fits the given data. Multiple R-squared: 0.07262"
   ]
  },
  {
   "cell_type": "code",
   "execution_count": 32,
   "id": "a23038aa",
   "metadata": {
    "scrolled": true
   },
   "outputs": [
    {
     "data": {
      "text/html": [
       "<table>\n",
       "<thead><tr><th></th><th scope=col>GPA</th><th scope=col>ACT</th></tr></thead>\n",
       "<tbody>\n",
       "\t<tr><th scope=row>3</th><td>3.778</td><td>28   </td></tr>\n",
       "\t<tr><th scope=row>23</th><td>3.731</td><td>28   </td></tr>\n",
       "\t<tr><th scope=row>25</th><td>3.556</td><td>28   </td></tr>\n",
       "\t<tr><th scope=row>27</th><td>2.420</td><td>28   </td></tr>\n",
       "\t<tr><th scope=row>33</th><td>2.929</td><td>28   </td></tr>\n",
       "\t<tr><th scope=row>79</th><td>4.000</td><td>28   </td></tr>\n",
       "\t<tr><th scope=row>108</th><td>3.621</td><td>28   </td></tr>\n",
       "\t<tr><th scope=row>109</th><td>3.792</td><td>28   </td></tr>\n",
       "\t<tr><th scope=row>118</th><td>3.914</td><td>28   </td></tr>\n",
       "\t<tr><th scope=row>120</th><td>2.948</td><td>28   </td></tr>\n",
       "</tbody>\n",
       "</table>\n"
      ],
      "text/latex": [
       "\\begin{tabular}{r|ll}\n",
       "  & GPA & ACT\\\\\n",
       "\\hline\n",
       "\t3 & 3.778 & 28   \\\\\n",
       "\t23 & 3.731 & 28   \\\\\n",
       "\t25 & 3.556 & 28   \\\\\n",
       "\t27 & 2.420 & 28   \\\\\n",
       "\t33 & 2.929 & 28   \\\\\n",
       "\t79 & 4.000 & 28   \\\\\n",
       "\t108 & 3.621 & 28   \\\\\n",
       "\t109 & 3.792 & 28   \\\\\n",
       "\t118 & 3.914 & 28   \\\\\n",
       "\t120 & 2.948 & 28   \\\\\n",
       "\\end{tabular}\n"
      ],
      "text/markdown": [
       "\n",
       "| <!--/--> | GPA | ACT |\n",
       "|---|---|---|\n",
       "| 3 | 3.778 | 28    |\n",
       "| 23 | 3.731 | 28    |\n",
       "| 25 | 3.556 | 28    |\n",
       "| 27 | 2.420 | 28    |\n",
       "| 33 | 2.929 | 28    |\n",
       "| 79 | 4.000 | 28    |\n",
       "| 108 | 3.621 | 28    |\n",
       "| 109 | 3.792 | 28    |\n",
       "| 118 | 3.914 | 28    |\n",
       "| 120 | 2.948 | 28    |\n",
       "\n"
      ],
      "text/plain": [
       "    GPA   ACT\n",
       "3   3.778 28 \n",
       "23  3.731 28 \n",
       "25  3.556 28 \n",
       "27  2.420 28 \n",
       "33  2.929 28 \n",
       "79  4.000 28 \n",
       "108 3.621 28 \n",
       "109 3.792 28 \n",
       "118 3.914 28 \n",
       "120 2.948 28 "
      ]
     },
     "metadata": {},
     "output_type": "display_data"
    }
   ],
   "source": [
    "#q.\n",
    "sample_28 = data[data$ACT == 28,]\n",
    "sample_28"
   ]
  },
  {
   "cell_type": "code",
   "execution_count": 29,
   "id": "23cef7cf",
   "metadata": {},
   "outputs": [
    {
     "data": {
      "text/plain": [
       "      GPA             ACT    \n",
       " Min.   :2.420   Min.   :28  \n",
       " 1st Qu.:3.100   1st Qu.:28  \n",
       " Median :3.676   Median :28  \n",
       " Mean   :3.469   Mean   :28  \n",
       " 3rd Qu.:3.788   3rd Qu.:28  \n",
       " Max.   :4.000   Max.   :28  "
      ]
     },
     "metadata": {},
     "output_type": "display_data"
    },
    {
     "data": {
      "text/html": [
       "<table>\n",
       "<thead><tr><th></th><th scope=col>2.5 %</th><th scope=col>97.5 %</th></tr></thead>\n",
       "<tbody>\n",
       "\t<tr><th scope=row>(Intercept)</th><td>3.096231</td><td>3.841569</td></tr>\n",
       "</tbody>\n",
       "</table>\n"
      ],
      "text/latex": [
       "\\begin{tabular}{r|ll}\n",
       "  & 2.5 \\% & 97.5 \\%\\\\\n",
       "\\hline\n",
       "\t(Intercept) & 3.096231 & 3.841569\\\\\n",
       "\\end{tabular}\n"
      ],
      "text/markdown": [
       "\n",
       "| <!--/--> | 2.5 % | 97.5 % |\n",
       "|---|---|---|\n",
       "| (Intercept) | 3.096231 | 3.841569 |\n",
       "\n"
      ],
      "text/plain": [
       "            2.5 %    97.5 %  \n",
       "(Intercept) 3.096231 3.841569"
      ]
     },
     "metadata": {},
     "output_type": "display_data"
    }
   ],
   "source": [
    "summary(sample_28)\n",
    "model_28 = lm(GPA ~ 1, sample_28)\n",
    "confint(model_28, level = 0.95)"
   ]
  },
  {
   "cell_type": "markdown",
   "id": "345bacae",
   "metadata": {},
   "source": [
    "The mean which is 3.469 is between confidence interval 3.09 and 3.81"
   ]
  }
 ],
 "metadata": {
  "kernelspec": {
   "display_name": "R",
   "language": "R",
   "name": "ir"
  },
  "language_info": {
   "codemirror_mode": "r",
   "file_extension": ".r",
   "mimetype": "text/x-r-source",
   "name": "R",
   "pygments_lexer": "r",
   "version": "3.6.1"
  }
 },
 "nbformat": 4,
 "nbformat_minor": 5
}
